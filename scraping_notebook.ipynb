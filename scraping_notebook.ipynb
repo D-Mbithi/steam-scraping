{
 "cells": [
  {
   "cell_type": "code",
   "execution_count": 2,
   "id": "bf6efd22-3c96-4e29-8207-63b5f571f1b9",
   "metadata": {},
   "outputs": [],
   "source": [
    "import requests\n",
    "import lxml.html"
   ]
  },
  {
   "cell_type": "code",
   "execution_count": 3,
   "id": "9a485a3e-f041-4a17-8af1-2e909d6e5550",
   "metadata": {},
   "outputs": [],
   "source": [
    "html = requests.get('https://store.steampowered.com/explore/new/')\n",
    "doc = lxml.html.fromstring(html.content)"
   ]
  },
  {
   "cell_type": "code",
   "execution_count": 19,
   "id": "fae76578-5f3c-462d-8151-5c5471722883",
   "metadata": {},
   "outputs": [
    {
     "name": "stdout",
     "output_type": "stream",
     "text": [
      "[{'title': 'Fashion Police Squad', 'price': '$17.99', 'tags': ['Arena Shooter', 'FPS', 'Shooter', 'Arcade'], 'platforms': ['win']}, {'title': 'Spark the Electric Jester 3', 'price': '$19.99', 'tags': ['3D', 'Action', '3D Platformer', 'Platformer'], 'platforms': ['win']}, {'title': 'Noelle Does Her Best!', 'price': '$17.99', 'tags': ['RPG', 'Sexual Content', 'JRPG', 'Anime'], 'platforms': ['win']}, {'title': 'Marvel’s Spider-Man Remastered', 'price': '$59.99', 'tags': ['Superhero', 'Action', 'Open World', 'Singleplayer'], 'platforms': ['win']}, {'title': 'Cult of the Lamb: Cultist Pack', 'price': '$4.99', 'tags': ['Adventure', 'Action', 'Strategy', 'Indie'], 'platforms': ['win', 'mac']}, {'title': 'Cult of the Lamb', 'price': '$24.99', 'tags': ['Cute', 'Action Roguelike', 'Roguelite', 'Dungeon Crawler'], 'platforms': ['win', 'mac']}, {'title': 'Arcade Paradise', 'price': '$17.99', 'tags': ['Adventure', 'Arcade', \"1990's\", 'Management'], 'platforms': ['win']}, {'title': 'Axiom Verge 2', 'price': '$17.99', 'tags': ['Action', 'Adventure', 'Metroidvania', 'Action-Adventure'], 'platforms': ['win', 'linux']}, {'title': 'Two Point Campus', 'price': '$39.99', 'tags': ['Simulation', 'Management', 'Building', 'City Builder'], 'platforms': ['win', 'mac', 'linux']}, {'title': 'Hard West 2', 'price': '$29.99', 'tags': ['Turn-Based Strategy', 'Western', 'Turn-Based Tactics', 'RPG'], 'platforms': ['win']}, {'title': 'PlateUp!', 'price': '$17.99', 'tags': ['Roguelite', 'Co-op', 'Management', 'Building'], 'platforms': ['win']}, {'title': 'Hooked on You: A Dead by Daylight Dating Sim™', 'price': '$9.99', 'tags': ['Psychological Horror', 'Dating Sim', 'Visual Novel', 'Choose Your Own Adventure'], 'platforms': ['win']}, {'title': 'Star Valor', 'price': '$24.99', 'tags': ['Space', 'Action', 'RPG', 'Sandbox'], 'platforms': ['win']}, {'title': 'Spellbook Demonslayers Prologue', 'price': 'Free', 'tags': ['Action Roguelike', 'Bullet Hell', \"Shoot 'Em Up\", 'Top-Down Shooter'], 'platforms': ['win']}, {'title': 'Gun Devil', 'price': 'Free', 'tags': ['Hero Shooter', 'Side Scroller', 'Precision Platformer', '2D Platformer'], 'platforms': ['win']}, {'title': 'The Mortuary Assistant', 'price': '$24.99', 'tags': ['Horror', 'Supernatural', 'Mystery', 'Demons'], 'platforms': ['win']}, {'title': 'Police Stories: The Academy', 'price': 'Free To Play', 'tags': ['Simulation', 'Strategy', 'Action', 'Shooter'], 'platforms': ['win']}, {'title': 'Digimon Survive', 'price': '$59.99', 'tags': ['Visual Novel', 'Anime', 'Tactical RPG', 'JRPG'], 'platforms': ['win']}, {'title': 'Bear and Breakfast', 'price': '$19.99', 'tags': ['Cartoon', 'Economy', 'Life Sim', 'RPG'], 'platforms': ['win']}, {'title': 'Error143', 'price': 'Free To Play', 'tags': ['Visual Novel', 'Choose Your Own Adventure', 'LGBTQ+', 'Dating Sim'], 'platforms': ['win', 'mac', 'linux']}, {'title': 'Flower girl 2', 'price': 'Free To Play', 'tags': ['Sexual Content', 'Nudity', 'Free to Play', 'Casual'], 'platforms': ['win']}, {'title': 'Rock Life: The Rock Simulator', 'price': 'Free To Play', 'tags': ['Idler', 'Sandbox', 'Simulation', 'VR'], 'platforms': ['win']}, {'title': 'Impact Point', 'price': 'Free To Play', 'tags': ['Multiplayer', 'PvP', 'Top-Down Shooter', '2D'], 'platforms': ['win']}, {'title': 'Biters & Bullets: Prologue', 'price': 'Free', 'tags': ['Action', 'Action Roguelike', 'Casual', 'Bullet Hell'], 'platforms': ['win']}, {'title': 'MultiVersus', 'price': 'Free to Play', 'tags': ['Multiplayer', '2D Fighter', 'Co-op', 'Action'], 'platforms': ['win']}, {'title': 'Stray', 'price': '$29.99', 'tags': ['Cats', 'Adventure', 'Cyberpunk', 'Atmospheric'], 'platforms': ['win']}, {'title': 'FPS Chess', 'price': 'Free', 'tags': ['FPS', 'PvP', 'Sports', 'Board Game'], 'platforms': ['win']}, {'title': 'PowerWash Simulator', 'price': '$24.99', 'tags': ['FPS', 'Immersive Sim', 'Sandbox', '3D'], 'platforms': ['win']}, {'title': 'MADiSON', 'price': '$34.99', 'tags': ['Horror', 'Psychological Horror', 'Survival Horror', 'Dark'], 'platforms': ['win']}, {'title': \"Tiny Tina's Wonderlands\", 'price': '$44.99', 'tags': ['Adventure', 'Loot', 'Shooter', 'Multiplayer'], 'platforms': ['win']}, {'title': \"Tiny Tina's Wonderlands\", 'price': '$44.99', 'tags': ['Adventure', 'Loot', 'Shooter', 'Multiplayer'], 'platforms': ['win']}, {'title': 'Raft', 'price': '$19.99', 'tags': ['Survival', 'Open World Survival Craft', 'Multiplayer', 'Co-op'], 'platforms': ['win']}, {'title': 'The Looker', 'price': 'Free', 'tags': ['Puzzle', 'Parody ', 'Comedy', 'Funny'], 'platforms': ['win']}, {'title': 'Smithworks', 'price': 'Free', 'tags': ['3D Platformer', 'First-Person', 'Character Customization', 'Tutorial'], 'platforms': ['win', 'mac']}, {'title': 'FINAL FANTASY VII REMAKE INTERGRADE', 'price': '$69.99', 'tags': ['RPG', 'Action RPG', 'Action-Adventure', 'JRPG'], 'platforms': ['win']}, {'title': 'Starship Troopers: Terran Command', 'price': '$29.99', 'tags': ['Strategy', 'RTS', 'Singleplayer', 'Military'], 'platforms': ['win']}]\n"
     ]
    }
   ],
   "source": [
    "new_releases = doc.xpath('//div[@id=\"tab_newreleases_content\"]')[0]\n",
    "\n",
    "titles = new_releases.xpath('.//div[@class=\"tab_item_name\"]/text()')\n",
    "\n",
    "prices = new_releases.xpath('.//div[@class=\"discount_final_price\"]/text()')\n",
    "\n",
    "tags = [div.text_content() for div in new_releases.xpath('.//div[@class=\"tab_item_top_tags\"]')]\n",
    "\n",
    "tags = [tag.split(', ') for tag in tags ]\n",
    "\n",
    "platforms_div = new_releases.xpath('.//div[@class=\"tab_item_details\"]')\n",
    "total_platforms = []\n",
    "\n",
    "\n",
    "for game in platforms_div:\n",
    "    temp = game.xpath('.//span[contains(@class, \"platform_img\")]')\n",
    "    \n",
    "    platforms = [t.get(\"class\").split(' ')[-1] for t in temp]\n",
    "    \n",
    "    if \"hmd_separator\" in platforms:\n",
    "        platforms.remove(\"hmd_separator\")\n",
    "    total_platforms.append(platforms)\n",
    "\n",
    "output = []\n",
    "\n",
    "for info in zip(titles,prices, tags, total_platforms):\n",
    "    resp = {}\n",
    "    resp['title'] = info[0]\n",
    "    resp['price'] = info[1]\n",
    "    resp['tags'] = info[2]\n",
    "    resp['platforms'] = info[3]\n",
    "    \n",
    "    output.append(resp)\n",
    "    \n",
    "print(output)"
   ]
  },
  {
   "cell_type": "code",
   "execution_count": null,
   "id": "ec938856-5e8a-4fc0-ae1b-a8c756a644ea",
   "metadata": {},
   "outputs": [],
   "source": []
  }
 ],
 "metadata": {
  "kernelspec": {
   "display_name": "Python 3 (ipykernel)",
   "language": "python",
   "name": "python3"
  },
  "language_info": {
   "codemirror_mode": {
    "name": "ipython",
    "version": 3
   },
   "file_extension": ".py",
   "mimetype": "text/x-python",
   "name": "python",
   "nbconvert_exporter": "python",
   "pygments_lexer": "ipython3",
   "version": "3.9.12"
  }
 },
 "nbformat": 4,
 "nbformat_minor": 5
}
